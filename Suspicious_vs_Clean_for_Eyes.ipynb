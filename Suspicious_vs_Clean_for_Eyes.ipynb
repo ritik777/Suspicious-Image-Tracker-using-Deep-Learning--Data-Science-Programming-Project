{
 "cells": [
  {
   "cell_type": "code",
   "execution_count": 1,
   "metadata": {},
   "outputs": [
    {
     "name": "stderr",
     "output_type": "stream",
     "text": [
      "Using TensorFlow backend.\n",
      "C:\\Users\\ktiwari\\Anaconda3\\lib\\site-packages\\tensorflow\\python\\framework\\dtypes.py:526: FutureWarning: Passing (type, 1) or '1type' as a synonym of type is deprecated; in a future version of numpy, it will be understood as (type, (1,)) / '(1,)type'.\n",
      "  _np_qint8 = np.dtype([(\"qint8\", np.int8, 1)])\n",
      "C:\\Users\\ktiwari\\Anaconda3\\lib\\site-packages\\tensorflow\\python\\framework\\dtypes.py:527: FutureWarning: Passing (type, 1) or '1type' as a synonym of type is deprecated; in a future version of numpy, it will be understood as (type, (1,)) / '(1,)type'.\n",
      "  _np_quint8 = np.dtype([(\"quint8\", np.uint8, 1)])\n",
      "C:\\Users\\ktiwari\\Anaconda3\\lib\\site-packages\\tensorflow\\python\\framework\\dtypes.py:528: FutureWarning: Passing (type, 1) or '1type' as a synonym of type is deprecated; in a future version of numpy, it will be understood as (type, (1,)) / '(1,)type'.\n",
      "  _np_qint16 = np.dtype([(\"qint16\", np.int16, 1)])\n",
      "C:\\Users\\ktiwari\\Anaconda3\\lib\\site-packages\\tensorflow\\python\\framework\\dtypes.py:529: FutureWarning: Passing (type, 1) or '1type' as a synonym of type is deprecated; in a future version of numpy, it will be understood as (type, (1,)) / '(1,)type'.\n",
      "  _np_quint16 = np.dtype([(\"quint16\", np.uint16, 1)])\n",
      "C:\\Users\\ktiwari\\Anaconda3\\lib\\site-packages\\tensorflow\\python\\framework\\dtypes.py:530: FutureWarning: Passing (type, 1) or '1type' as a synonym of type is deprecated; in a future version of numpy, it will be understood as (type, (1,)) / '(1,)type'.\n",
      "  _np_qint32 = np.dtype([(\"qint32\", np.int32, 1)])\n",
      "C:\\Users\\ktiwari\\Anaconda3\\lib\\site-packages\\tensorflow\\python\\framework\\dtypes.py:535: FutureWarning: Passing (type, 1) or '1type' as a synonym of type is deprecated; in a future version of numpy, it will be understood as (type, (1,)) / '(1,)type'.\n",
      "  np_resource = np.dtype([(\"resource\", np.ubyte, 1)])\n"
     ]
    }
   ],
   "source": [
    "import os, cv2, itertools # cv2 -- OpenCV\n",
    "import numpy as np \n",
    "import pandas as pd \n",
    "import keras\n",
    " \n",
    "import matplotlib.pyplot as plt \n",
    "%matplotlib inline"
   ]
  },
  {
   "cell_type": "code",
   "execution_count": 2,
   "metadata": {},
   "outputs": [],
   "source": [
    "# libraries imported\n",
    "import sys\n",
    "from matplotlib import pyplot\n",
    "from keras.utils import to_categorical\n",
    "from keras.models import Sequential\n",
    "from keras.layers import Conv2D\n",
    "from keras.layers import MaxPooling2D\n",
    "from keras.layers import Dense\n",
    "from keras.layers import Flatten\n",
    "from keras.layers import Dropout\n",
    "from keras.optimizers import SGD\n",
    "from keras.preprocessing.image import ImageDataGenerator\n",
    "from keras import regularizers\n",
    "from keras.layers import BatchNormalization\n",
    "from keras.layers import Activation\n",
    " "
   ]
  },
  {
   "cell_type": "markdown",
   "metadata": {},
   "source": [
    "1.\tChange the below path for directory to the location where your “Eye” Folder (downloaded above) is available. \n",
    "directory = 'C:/Users/ktiwari/Documents/USF/Kirti/USF CourseWork/2nd Sem/DSP-6930/eye_dataset/eye/' # only have to change this path \n",
    "Note : Replace the “\\” with “/” and provide “ / “ at the end of the path.\n",
    "2.\tSearch for ‘haarcascade_frontalface_default.xml’ in windows search and open the file found.\n",
    "It will open in explorer and copy the full path from there.\n",
    "Use this path which you copied above and replace in the face_cascade section in below part of the code, also replace the “\\” with “/”\n",
    "3.\tSimilar activity needs to be done for eye_cascade as well. Search for ‘haarcascade_eye.xml'\n",
    "4. Refer ReadME for more details\n"
   ]
  },
  {
   "cell_type": "code",
   "execution_count": 3,
   "metadata": {},
   "outputs": [],
   "source": [
    "directory = 'C:/Users/ktiwari/Documents/USF/Kirti/USF CourseWork/2nd Sem/DSP-6930/eye_dataset/eye/' # only have to change this path\n",
    "TRAIN_DIR = directory+'Data/'\n",
    "TEST_DIR = directory+'Test/'\n",
    "# Need to set up paths for face_cascade and eye_cascade manually \n",
    "face_cascade = cv2.CascadeClassifier('C:/Users/ktiwari/Anaconda3/Lib/site-packages/cv2/data/haarcascade_frontalface_default.xml')\n",
    "eye_cascade = cv2.CascadeClassifier('C:/Users/ktiwari/Anaconda3/Lib/site-packages/cv2/data/haarcascade_eye.xml')\n",
    "\n",
    "\\\\"
   ]
  },
  {
   "cell_type": "code",
   "execution_count": 4,
   "metadata": {},
   "outputs": [],
   "source": [
    "train_images = [TRAIN_DIR+i for i in os.listdir(TRAIN_DIR)]\n",
    "#test_images = [TEST_DIR+i for i in os.listdir(TEST_DIR)]"
   ]
  },
  {
   "cell_type": "code",
   "execution_count": 5,
   "metadata": {
    "scrolled": true
   },
   "outputs": [
    {
     "name": "stdout",
     "output_type": "stream",
     "text": [
      "(82, 200, 200, 3) (82,)\n"
     ]
    }
   ],
   "source": [
    "# load suspicious vs clean dataset, reshape and save to a new folder\n",
    "\n",
    "from os import listdir\n",
    "from numpy import asarray\n",
    "from numpy import save\n",
    "from keras.preprocessing.image import load_img\n",
    "from keras.preprocessing.image import img_to_array\n",
    "# define location of dataset\n",
    "folder = TRAIN_DIR\n",
    "photos, labels = list(), list()\n",
    "# enumerate files in the directory\n",
    "for file in listdir(folder):\n",
    "    # determine class\n",
    "    output = 0.0\n",
    "    if file.startswith('sus'):\n",
    "        output = 1.0\n",
    "    # load image\n",
    "    photo = load_img(folder + file, target_size=(200, 200))\n",
    "    # convert to numpy array\n",
    "    photo = img_to_array(photo)\n",
    "    # store\n",
    "    photos.append(photo)\n",
    "    labels.append(output)\n",
    "# convert to a numpy arrays\n",
    "photos = asarray(photos)\n",
    "labels = asarray(labels)\n",
    "print(photos.shape, labels.shape)\n",
    "# save the reshaped photos\n",
    "save('photos.npy', photos)\n",
    "save('labels.npy', labels)"
   ]
  },
  {
   "cell_type": "code",
   "execution_count": 6,
   "metadata": {},
   "outputs": [
    {
     "name": "stdout",
     "output_type": "stream",
     "text": [
      "(82, 200, 200, 3) (82,)\n"
     ]
    }
   ],
   "source": [
    "# load and confirm the shape\n",
    "from numpy import load\n",
    "photos = load('photos.npy')\n",
    "labels = load('labels.npy')\n",
    "print(photos.shape, labels.shape)"
   ]
  },
  {
   "cell_type": "code",
   "execution_count": 7,
   "metadata": {},
   "outputs": [],
   "source": [
    "# We will move the images based on the labels to their respective folders, so we will delete the existing directories if any\n",
    "# and recreate them\n",
    "from os import makedirs\n",
    "from os import rmdir\n",
    "\n",
    "import shutil\n",
    "\n",
    "# delete directories for images\n",
    "dataset_home = directory+'dataset_eyes_sus_vs_clean/'\n",
    "if os.path.exists(dataset_home+'train/sus/'):\n",
    "    shutil.rmtree(dataset_home+'train/sus/')\n",
    "    shutil.rmtree(dataset_home+'train/clean/')\n",
    "    shutil.rmtree(dataset_home+'valid/clean/')\n",
    "    shutil.rmtree(dataset_home+'valid/sus/')\n",
    "    shutil.rmtree(dataset_home)\n",
    "    "
   ]
  },
  {
   "cell_type": "code",
   "execution_count": 8,
   "metadata": {},
   "outputs": [],
   "source": [
    "# organize dataset into a useful structure and extract eyes \n",
    "from os import makedirs\n",
    "from os import listdir\n",
    "from shutil import copyfile\n",
    "from random import seed\n",
    "from random import random\n",
    "import numpy as np\n",
    "import cv2\n",
    "# create directories\n",
    "dataset_home = directory+'dataset_eyes_sus_vs_clean/'\n",
    "subdirs = ['train/', 'valid/']\n",
    "for subdir in subdirs:\n",
    "    # create label subdirectories\n",
    "    labeldirs = ['sus/', 'clean/']\n",
    "    for labldir in labeldirs:\n",
    "        newdir = dataset_home + subdir + labldir\n",
    "        makedirs(newdir, exist_ok=True)\n",
    "# seed random number generator\n",
    "seed(1)\n",
    "# define ratio of pictures to use for validation\n",
    "val_ratio = 0.2\n",
    "# copy training dataset images into subdirectories\n",
    "src_directory = TRAIN_DIR\n",
    "for file in listdir(src_directory):\n",
    "    src = src_directory + '/' + file\n",
    "    dst_dir = 'train/'\n",
    "    if random() < val_ratio:\n",
    "        dst_dir = 'valid/'\n",
    "    if file.startswith('sus'):\n",
    "        img = cv2.imread(TRAIN_DIR+file)\n",
    "        gray = cv2.cvtColor(img, cv2.COLOR_BGR2GRAY)\n",
    "        faces = face_cascade.detectMultiScale(gray, 1.3, 5)\n",
    "        for (x,y,w,h) in faces:\n",
    "            img = cv2.rectangle(img,(x,y),(x+w,y+h),(255,0,0),2)\n",
    "            roi_gray = gray[y:y+h, x:x+w]\n",
    "            roi_color = img[y:y+h, x:x+w]\n",
    "    #cv2.imshow(\"cropped\", roi_color)\n",
    "            eyes = eye_cascade.detectMultiScale(roi_gray)\n",
    "            i=0\n",
    "            for (ex,ey,ew,eh) in eyes:\n",
    "                cv2.rectangle(roi_color,(ex,ey),(ex+ew,ey+eh),(0,255,0),2)\n",
    "        #filename = 'C:/Users/Admin/Desktop/KT/test/savedImage'+str(i)+'.jpg'\n",
    "        #cv2.imwrite(filename, cv2.rectangle(roi_color,(ex,ey),(ex+ew,ey+eh),(0,255,0),2))\n",
    "                eyes1 = roi_color[ey:ey+eh, ex:ex+ew]\n",
    "                #cv2.imshow(\"cropped\", eyes1)\n",
    "                #cv2.imwrite(filename.replace('.jpg','')+str(i)+'.jpg', eyes1)\n",
    "                i=i+1\n",
    "                dst = dataset_home + dst_dir + 'sus/'  + file.replace('.jpg','')+str(i)+'.jpg'\n",
    "                cv2.imwrite(dst, eyes1)\n",
    "                #copyfile(src, dst)\n",
    "    elif file.startswith('clean'):\n",
    "        img = cv2.imread(TRAIN_DIR+file)\n",
    "        gray = cv2.cvtColor(img, cv2.COLOR_BGR2GRAY)\n",
    "        faces = face_cascade.detectMultiScale(gray, 1.3, 5)\n",
    "        for (x,y,w,h) in faces:\n",
    "            img = cv2.rectangle(img,(x,y),(x+w,y+h),(255,0,0),2)\n",
    "            roi_gray = gray[y:y+h, x:x+w]\n",
    "            roi_color = img[y:y+h, x:x+w]\n",
    "    #cv2.imshow(\"cropped\", roi_color)\n",
    "            eyes = eye_cascade.detectMultiScale(roi_gray)\n",
    "            i=0\n",
    "            for (ex,ey,ew,eh) in eyes:\n",
    "                cv2.rectangle(roi_color,(ex,ey),(ex+ew,ey+eh),(0,255,0),2)\n",
    "        #filename = 'C:/Users/Admin/Desktop/KT/test/savedImage'+str(i)+'.jpg'\n",
    "        #cv2.imwrite(filename, cv2.rectangle(roi_color,(ex,ey),(ex+ew,ey+eh),(0,255,0),2))\n",
    "                eyes1 = roi_color[ey:ey+eh, ex:ex+ew]\n",
    "                #cv2.imshow(\"cropped\", eyes1)\n",
    "                #cv2.imwrite(filename.replace('.jpg','')+str(i)+'.jpg', eyes1)\n",
    "                i=i+1\n",
    "                dst = dataset_home + dst_dir + 'clean/'  + file.replace('.jpg','')+str(i)+'.jpg'\n",
    "                cv2.imwrite(dst, eyes1)\n",
    "                #copyfile(src, dst)"
   ]
  },
  {
   "cell_type": "code",
   "execution_count": 9,
   "metadata": {},
   "outputs": [
    {
     "name": "stdout",
     "output_type": "stream",
     "text": [
      "Found 114 images belonging to 2 classes.\n",
      "Found 20 images belonging to 2 classes.\n"
     ]
    }
   ],
   "source": [
    "train_datagen = ImageDataGenerator(rescale=1.0/255.0,\n",
    "                                  shear_range=0.15,\n",
    "                                  zoom_range=0.2,\n",
    "                                  #rotation_range=45,\n",
    "                                  #width_shift_range=[-0.2,0.2],\n",
    "                                  #height_shift_range=0.25,\n",
    "                                  brightness_range=[0.5,1.5],\n",
    "                                  horizontal_flip=True)\n",
    "\n",
    "val_datagen = ImageDataGenerator(rescale=1.0/255.0)\n",
    "\n",
    "train_it = train_datagen.flow_from_directory(directory+'dataset_eyes_sus_vs_clean/train/',\n",
    "        class_mode='binary', batch_size=10, target_size=(20, 20))\n",
    "\n",
    "val_it = val_datagen.flow_from_directory(directory+'dataset_eyes_sus_vs_clean/valid/',\n",
    "        class_mode='binary', batch_size=3, target_size=(20, 20))"
   ]
  },
  {
   "cell_type": "code",
   "execution_count": 10,
   "metadata": {},
   "outputs": [
    {
     "name": "stdout",
     "output_type": "stream",
     "text": [
      "WARNING:tensorflow:From C:\\Users\\ktiwari\\Anaconda3\\lib\\site-packages\\tensorflow\\python\\ops\\resource_variable_ops.py:435: colocate_with (from tensorflow.python.framework.ops) is deprecated and will be removed in a future version.\n",
      "Instructions for updating:\n",
      "Colocations handled automatically by placer.\n",
      "Model: \"sequential_1\"\n",
      "_________________________________________________________________\n",
      "Layer (type)                 Output Shape              Param #   \n",
      "=================================================================\n",
      "conv2d_1 (Conv2D)            (None, 20, 20, 32)        896       \n",
      "_________________________________________________________________\n",
      "max_pooling2d_1 (MaxPooling2 (None, 10, 10, 32)        0         \n",
      "_________________________________________________________________\n",
      "conv2d_2 (Conv2D)            (None, 10, 10, 32)        9248      \n",
      "_________________________________________________________________\n",
      "max_pooling2d_2 (MaxPooling2 (None, 5, 5, 32)          0         \n",
      "_________________________________________________________________\n",
      "conv2d_3 (Conv2D)            (None, 5, 5, 40)          11560     \n",
      "_________________________________________________________________\n",
      "max_pooling2d_3 (MaxPooling2 (None, 2, 2, 40)          0         \n",
      "_________________________________________________________________\n",
      "conv2d_4 (Conv2D)            (None, 2, 2, 55)          19855     \n",
      "_________________________________________________________________\n",
      "max_pooling2d_4 (MaxPooling2 (None, 1, 1, 55)          0         \n",
      "_________________________________________________________________\n",
      "flatten_1 (Flatten)          (None, 55)                0         \n",
      "_________________________________________________________________\n",
      "dropout_1 (Dropout)          (None, 55)                0         \n",
      "_________________________________________________________________\n",
      "dense_1 (Dense)              (None, 128)               7168      \n",
      "_________________________________________________________________\n",
      "dense_2 (Dense)              (None, 200)               25800     \n",
      "_________________________________________________________________\n",
      "activation_1 (Activation)    (None, 200)               0         \n",
      "_________________________________________________________________\n",
      "dense_3 (Dense)              (None, 1)                 201       \n",
      "_________________________________________________________________\n",
      "activation_2 (Activation)    (None, 1)                 0         \n",
      "=================================================================\n",
      "Total params: 74,728\n",
      "Trainable params: 74,728\n",
      "Non-trainable params: 0\n",
      "_________________________________________________________________\n"
     ]
    }
   ],
   "source": [
    "    xavier = keras.initializers.glorot_normal(seed=None)\n",
    "    he = keras.initializers.he_normal(seed=None)\n",
    "    \n",
    "    model = Sequential()\n",
    "    model.add(Conv2D(32, (3, 3), activation='relu', kernel_initializer='he_uniform', padding='same', input_shape=(20, 20, 3)))\n",
    "    model.add(MaxPooling2D((2, 2)))\n",
    "       \n",
    "    model.add(Conv2D(32, (3, 3), activation='relu', kernel_initializer=he, padding='same' ))\n",
    "    model.add(MaxPooling2D((2, 2)))\n",
    "    \n",
    "    model.add(Conv2D(40, (3, 3), activation='relu', kernel_initializer=he, padding='same' ))\n",
    "    model.add(MaxPooling2D((2, 2)))\n",
    "    \n",
    "    model.add(Conv2D(55, (3, 3), activation='relu', kernel_initializer=xavier, padding='same' ))\n",
    "    model.add(MaxPooling2D((2, 2)))\n",
    "    \n",
    "    #model.add(Conv2D(64, (2, 2))) \n",
    "    #model.add(Activation('relu')) \n",
    "    #model.add(MaxPooling2D(pool_size=(2, 2))) \n",
    "    \n",
    "                    \n",
    "    model.add(Flatten())\n",
    "    model.add(Dropout(0.5)) \n",
    "    \n",
    "    model.add(Dense(128, activation='relu', kernel_initializer=he,kernel_regularizer=regularizers.l2(0.02)))#70\n",
    "    \n",
    "    model.add(Dense(200)) #64\n",
    "    model.add(Activation('relu')) \n",
    "    \n",
    "    #model.add(Dense(350)) #Added in new run\n",
    "    #model.add(Activation('relu')) \n",
    "   \n",
    "\n",
    "     \n",
    "    model.add(Dense(1)) \n",
    "    model.add(Activation('sigmoid')) \n",
    "    \n",
    "    model.summary()\n",
    "    # compile model\n",
    "    #opt = SGD(lr=0.01, momentum=0.9)\n",
    "    model.compile(optimizer='rmsprop', loss='binary_crossentropy', metrics=['accuracy'])\n",
    "    #model.compile(loss='binary_crossentropy',optimizer=keras.optimizers.RMSprop(lr=1e-4), metrics=['accuracy'])\n",
    "    \n",
    "    # compile model 2\n",
    "    #sgd = keras.optimizers.SGD(lr=0.08)\n",
    "    #model.compile(loss='binary_crossentropy', optimizer=sgd, metrics=['accuracy'])\n",
    "    \n",
    "    #compile model 3\n",
    "    #adam = keras.optimizers.Adam(lr=1e-5, beta_1=0.9, beta_2=0.999, decay=0.0, amsgrad=False)\n",
    "    #model.compile(loss='binary_crossentropy', optimizer=adam, metrics=['accuracy'])\n",
    "    \n",
    "    #complie model 4\n",
    "    #nesterov_adam = keras.optimizers.Nadam(lr=1e-6, beta_1=0.9, beta_2=0.999, schedule_decay=0.004)\n",
    "    #model.compile(loss='binary_crossentropy', optimizer=nesterov_adam, metrics=['accuracy'])\n",
    "    "
   ]
  },
  {
   "cell_type": "code",
   "execution_count": 11,
   "metadata": {},
   "outputs": [
    {
     "name": "stdout",
     "output_type": "stream",
     "text": [
      "WARNING:tensorflow:From C:\\Users\\ktiwari\\Anaconda3\\lib\\site-packages\\tensorflow\\python\\ops\\math_ops.py:3066: to_int32 (from tensorflow.python.ops.math_ops) is deprecated and will be removed in a future version.\n",
      "Instructions for updating:\n",
      "Use tf.cast instead.\n",
      "Epoch 1/20\n",
      "12/12 [==============================] - 1s 96ms/step - loss: 5.3230 - accuracy: 0.6579 - val_loss: 5.0446 - val_accuracy: 0.5000\n",
      "Epoch 2/20\n",
      "12/12 [==============================] - 0s 25ms/step - loss: 4.8535 - accuracy: 0.6228 - val_loss: 4.6237 - val_accuracy: 0.5000\n",
      "Epoch 3/20\n",
      "12/12 [==============================] - 1s 47ms/step - loss: 4.4056 - accuracy: 0.6404 - val_loss: 4.1369 - val_accuracy: 0.6000\n",
      "Epoch 4/20\n",
      "12/12 [==============================] - 0s 33ms/step - loss: 4.0380 - accuracy: 0.6754 - val_loss: 3.9488 - val_accuracy: 0.5000\n",
      "Epoch 5/20\n",
      "12/12 [==============================] - 0s 38ms/step - loss: 3.6711 - accuracy: 0.7368 - val_loss: 3.6751 - val_accuracy: 0.5000\n",
      "Epoch 6/20\n",
      "12/12 [==============================] - 0s 39ms/step - loss: 3.3241 - accuracy: 0.7193 - val_loss: 3.0481 - val_accuracy: 0.5000\n",
      "Epoch 7/20\n",
      "12/12 [==============================] - 1s 61ms/step - loss: 3.0457 - accuracy: 0.7281 - val_loss: 2.9931 - val_accuracy: 0.8000\n",
      "Epoch 8/20\n",
      "12/12 [==============================] - 0s 36ms/step - loss: 2.7122 - accuracy: 0.7281 - val_loss: 2.4281 - val_accuracy: 0.7500\n",
      "Epoch 9/20\n",
      "12/12 [==============================] - 1s 52ms/step - loss: 2.4895 - accuracy: 0.7456 - val_loss: 2.2101 - val_accuracy: 0.5000\n",
      "Epoch 10/20\n",
      "12/12 [==============================] - 1s 44ms/step - loss: 2.2591 - accuracy: 0.7018 - val_loss: 2.5913 - val_accuracy: 0.7500\n",
      "Epoch 11/20\n",
      "12/12 [==============================] - 0s 40ms/step - loss: 2.0646 - accuracy: 0.7719 - val_loss: 1.8621 - val_accuracy: 0.5500\n",
      "Epoch 12/20\n",
      "12/12 [==============================] - 0s 34ms/step - loss: 1.8523 - accuracy: 0.8070 - val_loss: 2.0349 - val_accuracy: 0.5500\n",
      "Epoch 13/20\n",
      "12/12 [==============================] - 0s 39ms/step - loss: 1.5760 - accuracy: 0.8860 - val_loss: 1.3622 - val_accuracy: 0.5000\n",
      "Epoch 14/20\n",
      "12/12 [==============================] - 0s 30ms/step - loss: 1.5357 - accuracy: 0.8070 - val_loss: 1.9721 - val_accuracy: 0.5000\n",
      "Epoch 15/20\n",
      "12/12 [==============================] - 0s 24ms/step - loss: 1.3822 - accuracy: 0.8158 - val_loss: 1.5265 - val_accuracy: 0.7000\n",
      "Epoch 16/20\n",
      "12/12 [==============================] - 0s 36ms/step - loss: 1.2189 - accuracy: 0.8246 - val_loss: 2.0146 - val_accuracy: 0.6500\n",
      "Epoch 17/20\n",
      "12/12 [==============================] - 1s 42ms/step - loss: 1.0379 - accuracy: 0.8772 - val_loss: 1.6710 - val_accuracy: 0.6500\n",
      "Epoch 18/20\n",
      "12/12 [==============================] - 0s 31ms/step - loss: 0.9772 - accuracy: 0.8596 - val_loss: 1.3086 - val_accuracy: 0.5500\n",
      "Epoch 19/20\n",
      "12/12 [==============================] - 1s 43ms/step - loss: 0.8889 - accuracy: 0.8860 - val_loss: 0.5513 - val_accuracy: 0.6000\n",
      "Epoch 20/20\n",
      "12/12 [==============================] - 0s 38ms/step - loss: 0.7838 - accuracy: 0.8947 - val_loss: 0.8523 - val_accuracy: 0.6000\n"
     ]
    }
   ],
   "source": [
    "from IPython.display import display\n",
    "from PIL import Image\n",
    "\n",
    "history = model.fit_generator( train_it,\n",
    "                         steps_per_epoch=len(train_it),\n",
    "                         epochs=20,\n",
    "                         validation_data= val_it,\n",
    "                         validation_steps= len(val_it))\n",
    "\n",
    "# evaluate model\n",
    "#classifier.evaluate_generator(test_it, steps=len(test_it), verbose=0)\n"
   ]
  },
  {
   "cell_type": "code",
   "execution_count": 12,
   "metadata": {},
   "outputs": [
    {
     "data": {
      "image/png": "[encoded data removed]",
      "text/plain": [
       "<Figure size 432x288 with 1 Axes>"
      ]
     },
     "metadata": {
      "needs_background": "light"
     },
     "output_type": "display_data"
    }
   ],
   "source": [
    "# for plotting the graph... \n",
    "plt.clf()\n",
    "accuracy = history.history['accuracy']\n",
    "val_accuracy = history.history['val_accuracy']\n",
    "epochs = range(1, len(accuracy) + 1)\n",
    "plt.plot(epochs, accuracy, 'g', label='Training Accuracy')\n",
    "plt.plot(epochs, val_accuracy, 'y', label='Validation Accuracy')\n",
    "plt.title('Training and validation accuracy')\n",
    "plt.xlabel('Epochs')\n",
    "plt.ylabel('Accuracy')\n",
    "plt.legend()\n",
    "plt.show()"
   ]
  },
  {
   "cell_type": "code",
   "execution_count": 13,
   "metadata": {},
   "outputs": [
    {
     "data": {
      "image/png": "[encoded data removed]",
      "text/plain": [
       "<Figure size 432x288 with 1 Axes>"
      ]
     },
     "metadata": {
      "needs_background": "light"
     },
     "output_type": "display_data"
    }
   ],
   "source": [
    "# for plotting the graph... \n",
    "plt.clf()\n",
    "loss = history.history['loss']\n",
    "val_loss = history.history['val_loss']\n",
    "epochs = range(1, len(loss) + 1)\n",
    "plt.plot(epochs, loss, 'g', label='Training loss')\n",
    "plt.plot(epochs, val_loss, 'y', label='Validation loss')\n",
    "plt.title('Training and validation loss')\n",
    "plt.xlabel('Epochs')\n",
    "plt.ylabel('Loss')\n",
    "plt.legend()\n",
    "plt.show()"
   ]
  },
  {
   "cell_type": "code",
   "execution_count": 14,
   "metadata": {},
   "outputs": [
    {
     "name": "stdout",
     "output_type": "stream",
     "text": [
      "Found 21 images belonging to 1 classes.\n"
     ]
    }
   ],
   "source": [
    "# Load the data for making predictions\n",
    "test_datagen = ImageDataGenerator(rescale = 1./255)\n",
    "prediction_set = test_datagen.flow_from_directory(directory+'Test/', # relative path from working directoy\n",
    "                                            target_size = (20, 20),batch_size=1,\n",
    "                                            class_mode = 'binary')"
   ]
  },
  {
   "cell_type": "code",
   "execution_count": 15,
   "metadata": {},
   "outputs": [],
   "source": [
    "predictions=model.predict(prediction_set)"
   ]
  },
  {
   "cell_type": "code",
   "execution_count": 16,
   "metadata": {},
   "outputs": [],
   "source": [
    "i=np.random.choice(len(predictions))"
   ]
  },
  {
   "cell_type": "code",
   "execution_count": 17,
   "metadata": {},
   "outputs": [
    {
     "name": "stdout",
     "output_type": "stream",
     "text": [
      "predict\\clean.1.jpg [0.9961158] Suspicious\n",
      "predict\\clean.2.jpg [0.8536791] Suspicious\n",
      "predict\\clean.3.jpg [0.17145965] Clean\n",
      "predict\\clean.4.jpg [0.29318327] Clean\n",
      "predict\\clean.5.jpg [0.8781864] Suspicious\n",
      "predict\\clean.6.jpg [0.97779936] Suspicious\n",
      "predict\\clean.7.jpg [0.7109515] Suspicious\n",
      "predict\\clean.8.jpg [0.21021189] Clean\n",
      "predict\\clean.9.jpg [0.79737073] Suspicious\n",
      "predict\\suspicious.1.jpg [0.33172354] Clean\n",
      "predict\\suspicious.11.jpg [0.2940436] Clean\n",
      "predict\\suspicious.12.jpg [0.2535259] Clean\n",
      "predict\\suspicious.13.jpg [0.99522793] Suspicious\n",
      "predict\\suspicious.17.jpg [0.08307195] Clean\n",
      "predict\\suspicious.2.jpg [0.7837547] Suspicious\n",
      "predict\\suspicious.3.jpg [0.9974963] Suspicious\n",
      "predict\\suspicious.4.jpg [0.34347188] Clean\n",
      "predict\\suspicious.55.jpg [0.29722363] Clean\n",
      "predict\\suspicious.6.jpg [0.20616783] Clean\n",
      "predict\\suspicious.7.jpg [0.93847084] Suspicious\n",
      "predict\\suspicious.8.jpg [0.18193702] Clean\n"
     ]
    }
   ],
   "source": [
    "# Predicting all images in the folder\n",
    "for img in range(len(predictions)):\n",
    "    print(prediction_set.filenames[img],predictions[img],\"Suspicious\" if predictions[img] > 0.65 else \"Clean\")"
   ]
  },
  {
   "cell_type": "code",
   "execution_count": null,
   "metadata": {},
   "outputs": [],
   "source": []
  }
 ],
 "metadata": {
  "kernelspec": {
   "display_name": "Python 3",
   "language": "python",
   "name": "python3"
  },
  "language_info": {
   "codemirror_mode": {
    "name": "ipython",
    "version": 3
   },
   "file_extension": ".py",
   "mimetype": "text/x-python",
   "name": "python",
   "nbconvert_exporter": "python",
   "pygments_lexer": "ipython3",
   "version": "3.7.3"
  }
 },
 "nbformat": 4,
 "nbformat_minor": 2
}
